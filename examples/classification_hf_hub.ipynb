{
 "cells": [
  {
   "cell_type": "code",
   "execution_count": 1,
   "metadata": {},
   "outputs": [],
   "source": [
    "import json\n",
    "\n",
    "from promptify import HubModel, Prompter"
   ]
  },
  {
   "cell_type": "code",
   "execution_count": 2,
   "metadata": {},
   "outputs": [],
   "source": [
    "model = HubModel()\n",
    "prompter = Prompter(model)"
   ]
  },
  {
   "cell_type": "code",
   "execution_count": 3,
   "metadata": {},
   "outputs": [
    {
     "name": "stdout",
     "output_type": "stream",
     "text": [
      "Got 9 binary classification examples.\n",
      "{'text': 'Eight years the republicans denied obama’s picks. Breitbarters outrage is as phony as their fake president.', 'labels': 'negative', 'score': '', 'complexity': ''}\n"
     ]
    }
   ],
   "source": [
    "binary_examples = json.load(open(\"data/binary.json\",'r'))\n",
    "print(\"Got\", len(binary_examples), \"binary classification examples.\")\n",
    "\n",
    "prompt_examples = []\n",
    "for sample in binary_examples[:2]:\n",
    "    prompt_examples.append((sample['text'], sample['labels']))\n",
    "print(binary_examples[0])"
   ]
  },
  {
   "cell_type": "code",
   "execution_count": 4,
   "metadata": {},
   "outputs": [
    {
     "name": "stdout",
     "output_type": "stream",
     "text": [
      "Binary Classification System\n",
      "You are a highly intelligent and accurate Binary Classification system. You take Passage as input and classify that as either positive or negative Category. Your output format is only [{'C':Category}] form, no other form.\n",
      "\n",
      "Examples:\n",
      "\n",
      "Input: Eight years the republicans denied obama’s picks. Breitbarters outrage is as phony as their fake president.\n",
      "Output: [{'C': 'negative' }]\n",
      "\n",
      "Input: Except he’s the most successful president in our lifetimes. He’s undone most of the damage Obummer did and set America on the right path again.\n",
      "Output: [{'C': 'positive' }]\n",
      "\n",
      "Input: Amazing customer service.\n",
      "Output:\n"
     ]
    }
   ],
   "source": [
    "print(prompter.generate_prompt(\n",
    "    \"binary_classification.jinja\",\n",
    "    label_0=\"positive\",\n",
    "    label_1=\"negative\",\n",
    "    examples=prompt_examples,\n",
    "    text_input=\"Amazing customer service.\",\n",
    "    description=\"Binary Classification System\",\n",
    "))"
   ]
  },
  {
   "cell_type": "code",
   "execution_count": 5,
   "metadata": {},
   "outputs": [
    {
     "name": "stdout",
     "output_type": "stream",
     "text": [
      "\n",
      "\n",
      "Eight years the republicans denied obama’s picks. Breitbarters outrage is as phony as their fake president.\n",
      "Expected:    negative\n",
      "Prediction:  negative\n",
      "\n",
      "\n",
      "Except he’s the most successful president in our lifetimes. He’s undone most of the damage Obummer did and set America on the right path again.\n",
      "Expected:    positive\n",
      "Prediction:  positive\n",
      "\n",
      "\n",
      "So disappointed in wwe summerslam! I want to see john cena wins his 16th title\n",
      "Expected:    negative\n",
      "Prediction:  negative\n",
      "\n",
      "\n",
      "Looking forward to going to Carrow Rd tonight. Last time we were there\\u002c Bale scored 2 and we were 3rd. Do not want extra time though\n",
      "Expected:    positive\n",
      "Prediction:  positive\n",
      "\n",
      "\n",
      "It's a good day at work when you get to shake Jim Lehrer's hand. Thanks, @user Still kicking myself for being to shy to hug\n",
      "Expected:    positive\n",
      "Prediction:  positive\n",
      "\n",
      "\n",
      "Trumpism likewise rests on a bed of racial resentment that was made knowingly and intentionally, long before Trump got into politics.\n",
      "Expected:    negative\n",
      "Prediction:  negative\n",
      "\n",
      "\n",
      "i have been with petronas for years i feel that petronas has performed well and made a huge profit\n",
      "Expected:    positive\n",
      "Prediction:  positive\n",
      "\n",
      "\n",
      "I've read many post on here saying Israel gives training to US law enforcement .\n",
      "Expected:    positive\n",
      "Prediction:  positive\n",
      "\n",
      "\n",
      "And the sad thing is the white students at those schools will act like that too .\n",
      "Expected:    negative\n",
      "Prediction:  negative\n"
     ]
    }
   ],
   "source": [
    "def predict(text:str) -> str:\n",
    "    output = prompter.fit(\n",
    "        \"binary_classification.jinja\",\n",
    "        label_0=\"positive\",\n",
    "        label_1=\"negative\",\n",
    "        examples=prompt_examples,\n",
    "        text_input=text,\n",
    "    )\n",
    "    if \"positive\" in output:\n",
    "        return \"positive\"\n",
    "    elif \"negative\" in output:\n",
    "        return \"negative\"\n",
    "    return \"unknown\"\n",
    "\n",
    "for item in binary_examples:\n",
    "    prediction = predict(item[\"text\"])\n",
    "    print(\"\\n\")\n",
    "    print(item[\"text\"])\n",
    "    print(\"Expected:   \", item[\"labels\"])\n",
    "    print(\"Prediction: \", prediction)\n"
   ]
  },
  {
   "cell_type": "code",
   "execution_count": 9,
   "metadata": {},
   "outputs": [
    {
     "name": "stdout",
     "output_type": "stream",
     "text": [
      "Got 10 multiclass classification examples.\n",
      "Labels are: {'worry', 'surprise', 'neutral', 'hate', 'joy', 'sadness'}\n"
     ]
    }
   ],
   "source": [
    "multiclass_examples = json.load(open(\"data/multiclass.json\",'r'))\n",
    "print(\"Got\", len(multiclass_examples), \"multiclass classification examples.\")\n",
    "labels = set(sample['category'] for sample in multiclass_examples)\n",
    "print(\"Labels are:\", labels)"
   ]
  },
  {
   "cell_type": "code",
   "execution_count": 13,
   "metadata": {},
   "outputs": [
    {
     "name": "stdout",
     "output_type": "stream",
     "text": [
      "You are a highly intelligent and accurate Multiclass Classification system. You take Passage as input and classify that as one of the following appropriate Categories:\n",
      "{'worry', 'surprise', 'neutral', 'hate', 'joy', 'sadness'}\n",
      "Your output format is only [{{'C': Appropriate Category from the list of provided Categories}}] form, no other form.\n",
      "\n",
      "Input: I ate Something I don't know what it is... Why do I keep Telling things about food\n",
      "Output:\n"
     ]
    }
   ],
   "source": [
    "print(prompter.generate_prompt(\"multiclass_classification.jinja\", labels=labels, text_input=multiclass_examples[0][\"text\"]))"
   ]
  },
  {
   "cell_type": "code",
   "execution_count": 12,
   "metadata": {},
   "outputs": [
    {
     "name": "stdout",
     "output_type": "stream",
     "text": [
      "\n",
      "\n",
      "I ate Something I don't know what it is... Why do I keep Telling things about food\n",
      "Expected:    worry\n",
      "Prediction:  neutral\n",
      "\n",
      "\n",
      "Here's to the start of a great adventure. Niners today, Alaska tomorrow.\n",
      "Expected:    joy\n",
      "Prediction:  joy\n",
      "\n",
      "\n",
      "It is so annoying when she starts typing on her computer in the middle of the night!\n",
      "Expected:    hate\n",
      "Prediction:  hate\n",
      "\n",
      "\n",
      "Chocolate milk is so much better through a straw. I lack said straw\n",
      "Expected:    neutral\n",
      "Prediction:  neutral\n",
      "\n",
      "\n",
      "I want to buy this great album but unfortunately i dont hav enuff funds  its &quot;long time noisy&quot;\n",
      "Expected:    sadness\n",
      "Prediction:  neutral\n",
      "\n",
      "\n",
      "dont wanna work 11-830 tomorrow  but i get paid\n",
      "Expected:    sadness\n",
      "Prediction:  neutral\n",
      "\n",
      "\n",
      "Oh no one minute too late! Oh well\n",
      "Expected:    worry\n",
      "Prediction:  neutral\n",
      "\n",
      "\n",
      "2 days of this month left, and I only have 400MB left on my onpeak downloads.\n",
      "Expected:    surprise\n",
      "Prediction:  neutral\n",
      "\n",
      "\n",
      "my last tweet didn't send  bad phone\n",
      "Expected:    neutral\n",
      "Prediction:  neutral\n",
      "\n",
      "\n",
      "I had a dream about a pretty pretty beach and there was no beach when I woke up\n",
      "Expected:    surprise\n",
      "Prediction:  surprise\n"
     ]
    }
   ],
   "source": [
    "def predict(text:str) -> str:\n",
    "    output = prompter.fit(\"multiclass_classification.jinja\", labels=labels, text_input=text)\n",
    "    for label in labels:\n",
    "        if label in output:\n",
    "            return label\n",
    "    return \"unknown\"\n",
    "\n",
    "for item in multiclass_examples:\n",
    "    prediction = predict(item[\"text\"])\n",
    "    print(\"\\n\")\n",
    "    print(item[\"text\"])\n",
    "    print(\"Expected:   \", item[\"category\"])\n",
    "    print(\"Prediction: \", prediction)\n",
    "\n"
   ]
  }
 ],
 "metadata": {
  "kernelspec": {
   "display_name": ".venv",
   "language": "python",
   "name": "python3"
  },
  "language_info": {
   "codemirror_mode": {
    "name": "ipython",
    "version": 3
   },
   "file_extension": ".py",
   "mimetype": "text/x-python",
   "name": "python",
   "nbconvert_exporter": "python",
   "pygments_lexer": "ipython3",
   "version": "3.8.16"
  },
  "vscode": {
   "interpreter": {
    "hash": "f6d884a85d6833415ff5d0644d8efa773af5069f6068d8bbcc53dcdf3529c2ab"
   }
  }
 },
 "nbformat": 4,
 "nbformat_minor": 2
}
